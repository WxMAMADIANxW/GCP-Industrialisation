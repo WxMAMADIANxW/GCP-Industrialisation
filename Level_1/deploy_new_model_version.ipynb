{
 "cells": [
  {
   "cell_type": "markdown",
   "metadata": {},
   "source": [
    "## 0. Imports"
   ]
  },
  {
   "cell_type": "code",
   "execution_count": 104,
   "metadata": {
    "tags": []
   },
   "outputs": [],
   "source": [
    "import tensorflow as tf\n",
    "import pandas as pd\n",
    "import numpy as np\n",
    "import os\n",
    "import logging\n",
    "from google.cloud.storage import Client\n",
    "from sklearn.model_selection import train_test_split\n",
    "import datetime\n",
    "import gcsfs\n",
    "import pickle\n",
    "from preprocess import TextPreprocessor\n",
    "from model_prediction import CustomModelPrediction\n",
    "from googleapiclient import discovery\n",
    "from oauth2client.client import GoogleCredentials\n",
    "import json"
   ]
  },
  {
   "cell_type": "markdown",
   "metadata": {},
   "source": [
    "## 1. Config work"
   ]
  },
  {
   "cell_type": "markdown",
   "metadata": {},
   "source": [
    "#### Update the following config ONLY"
   ]
  },
  {
   "cell_type": "code",
   "execution_count": null,
   "metadata": {},
   "outputs": [],
   "source": [
    "MODEL_TIME_VERSION = '2022-06-03-15-42-52'"
   ]
  },
  {
   "cell_type": "markdown",
   "metadata": {},
   "source": [
    "#### DO NOT update the following config :"
   ]
  },
  {
   "cell_type": "code",
   "execution_count": 5,
   "metadata": {
    "collapsed": false,
    "jupyter": {
     "outputs_hidden": false
    }
   },
   "outputs": [
    {
     "name": "stdout",
     "output_type": "stream",
     "text": [
      "Updated property [core/project].\n"
     ]
    }
   ],
   "source": [
    "!gcloud config set project {PROJECT}"
   ]
  },
  {
   "cell_type": "code",
   "execution_count": null,
   "metadata": {
    "tags": []
   },
   "outputs": [],
   "source": [
    "PROJECT_ID = !(gcloud config get-value core/project)\n",
    "PROJECT = PROJECT_ID[0]\n",
    "BUCKET_NAME = f\"{PROJECT}-machine-learning\"\n",
    "BUCKET= f\"gs://{PROJECT}-machine-learning\"\n",
    "MODEL_DIR='level-1-models/valid_models/valid_model'+'_'+ MODEL_TIME_VERSION\n",
    "PACKAGES_DIR='level-1-models/valid_packages'\n",
    "REGION = 'europe-west9'\n",
    "MODEL_NAME = 'tweet_sentiment_classifier'\n",
    "temp_model = './model-'+ MODEL_TIME_VERSION +'/'\n",
    "RUNTIME_VERSION='2.5' # tensorflow version\n",
    "MODEL_REGION='europe-west1'\n",
    "\n",
    "if not os.path.exists('./model-'+ MODEL_TIME_VERSION +'/'):\n",
    "    os.makedirs('./model-'+ MODEL_TIME_VERSION +'/')\n",
    "temp_model = './model-'+ MODEL_TIME_VERSION +'/'"
   ]
  },
  {
   "cell_type": "code",
   "execution_count": 45,
   "metadata": {
    "tags": []
   },
   "outputs": [],
   "source": [
    "tf.compat.v1.logging.set_verbosity(tf.compat.v1.logging.INFO)"
   ]
  },
  {
   "cell_type": "markdown",
   "metadata": {},
   "source": [
    "## 4. Deployment"
   ]
  },
  {
   "cell_type": "markdown",
   "metadata": {},
   "source": [
    "### 4.1. Prepare custom model prediction"
   ]
  },
  {
   "cell_type": "code",
   "execution_count": 76,
   "metadata": {
    "collapsed": false,
    "jupyter": {
     "outputs_hidden": false
    }
   },
   "outputs": [
    {
     "name": "stdout",
     "output_type": "stream",
     "text": [
      "Overwriting model_prediction.py\n"
     ]
    }
   ],
   "source": [
    "%%writefile model_prediction.py\n",
    "import os\n",
    "import pickle\n",
    "import numpy as np\n",
    "import tensorflow as tf\n",
    "from tensorflow.python.lib.io import file_io\n",
    "\n",
    "class CustomModelPrediction(object):\n",
    "\n",
    "    def __init__(self, model, processor):\n",
    "        # Class gets instantiated with a trained model file and a persisted processor\n",
    "        self._model = model\n",
    "        self._processor = processor\n",
    "\n",
    "    def _postprocess(self, predictions):\n",
    "    # Create an output signature\n",
    "        labels = ['negative', 'positive']\n",
    "        return [\n",
    "            {\n",
    "            \"label\":labels[int(np.round(prediction))],\n",
    "            \"score\":float(np.round(prediction,4))\n",
    "            } for prediction in predictions]\n",
    "\n",
    "    def predict(self, instances, **kwargs):\n",
    "    # Clean the data, make predictions and postprocess\n",
    "        preprocessed_data = self._processor.transform(instances)\n",
    "        predictions =  self._model.predict(preprocessed_data)\n",
    "        labels = self._postprocess(predictions)\n",
    "        return labels\n",
    "\n",
    "    @classmethod\n",
    "    def from_path(cls, model_dir):\n",
    "    # Load the keras model and the persisted processor\n",
    "        \n",
    "        print ('test model')\n",
    "        model = tf.keras.models.load_model(model_dir,custom_objects={'tf': tf})\n",
    "    \n",
    "    # I know, pickle is bad and I should feel bad\n",
    "    \n",
    "        with file_io.FileIO(os.path.join(model_dir, 'processor_state.pkl'), 'rb') as f:\n",
    "            processor = pickle.load(f)\n",
    "\n",
    "        return cls(model, processor)"
   ]
  },
  {
   "cell_type": "markdown",
   "metadata": {},
   "source": [
    "#### Test"
   ]
  },
  {
   "cell_type": "code",
   "execution_count": 79,
   "metadata": {
    "tags": []
   },
   "outputs": [],
   "source": [
    "requests = ([\"God I hate the north\",\"I love this\"])\n",
    "\n",
    "classifier = CustomModelPrediction.from_path(BUCKET+'/'+MODEL_DIR)\n",
    "results = classifier.predict(requests)\n",
    "results"
   ]
  },
  {
   "cell_type": "markdown",
   "metadata": {},
   "source": [
    "### 4.2. Package model in tar.gz file"
   ]
  },
  {
   "cell_type": "code",
   "execution_count": 1,
   "metadata": {},
   "outputs": [
    {
     "ename": "NameError",
     "evalue": "name 'MODEL_TIME_VERSION' is not defined",
     "output_type": "error",
     "traceback": [
      "\u001b[0;31m---------------------------------------------------------------------------\u001b[0m",
      "\u001b[0;31mNameError\u001b[0m                                 Traceback (most recent call last)",
      "\u001b[0;32m/tmp/ipykernel_11665/1549545271.py\u001b[0m in \u001b[0;36m<module>\u001b[0;34m\u001b[0m\n\u001b[0;32m----> 1\u001b[0;31m \u001b[0mMODEL_TIME_VERSION\u001b[0m\u001b[0;34m\u001b[0m\u001b[0;34m\u001b[0m\u001b[0m\n\u001b[0m",
      "\u001b[0;31mNameError\u001b[0m: name 'MODEL_TIME_VERSION' is not defined"
     ]
    }
   ],
   "source": [
    "MODEL_TIME_VERSION"
   ]
  },
  {
   "cell_type": "markdown",
   "metadata": {},
   "source": [
    "#### update VERSION in the cell below with the MODEL_TIME_VERSION above"
   ]
  },
  {
   "cell_type": "code",
   "execution_count": 88,
   "metadata": {
    "collapsed": false,
    "jupyter": {
     "outputs_hidden": false
    }
   },
   "outputs": [
    {
     "name": "stdout",
     "output_type": "stream",
     "text": [
      "Overwriting setup.py\n"
     ]
    }
   ],
   "source": [
    "%%writefile setup.py\n",
    "\n",
    "from setuptools import setup\n",
    "\n",
    "MODEL_NAME = \"tweet_sentiment_classifier\"\n",
    "REQUIRED_PACKAGES = ['gcsfs']\n",
    "VERSION = '2022-06-xx-xx-xx-xx'\n",
    "\n",
    "setup(\n",
    "    name=MODEL_NAME,\n",
    "    packages=[],\n",
    "    include_package_data=False,\n",
    "    version=VERSION,\n",
    "    scripts=[\"preprocess.py\", \"model_prediction.py\"]\n",
    ")"
   ]
  },
  {
   "cell_type": "markdown",
   "metadata": {
    "tags": []
   },
   "source": [
    "#### Wrap it up and copy to GCP"
   ]
  },
  {
   "cell_type": "code",
   "execution_count": 89,
   "metadata": {},
   "outputs": [
    {
     "name": "stdout",
     "output_type": "stream",
     "text": [
      "running sdist\n",
      "running egg_info\n",
      "writing tweet_sentiment_classifier.egg-info/PKG-INFO\n",
      "writing dependency_links to tweet_sentiment_classifier.egg-info/dependency_links.txt\n",
      "writing top-level names to tweet_sentiment_classifier.egg-info/top_level.txt\n",
      "reading manifest file 'tweet_sentiment_classifier.egg-info/SOURCES.txt'\n",
      "writing manifest file 'tweet_sentiment_classifier.egg-info/SOURCES.txt'\n",
      "warning: sdist: standard file not found: should have one of README, README.rst, README.txt, README.md\n",
      "\n",
      "running check\n",
      "warning: check: missing required meta-data: url\n",
      "\n",
      "warning: check: missing meta-data: either (author and author_email) or (maintainer and maintainer_email) must be supplied\n",
      "\n",
      "creating tweet_sentiment_classifier-2\n",
      "creating tweet_sentiment_classifier-2/tweet_sentiment_classifier.egg-info\n",
      "copying files to tweet_sentiment_classifier-2...\n",
      "copying model_prediction.py -> tweet_sentiment_classifier-2\n",
      "copying preprocess.py -> tweet_sentiment_classifier-2\n",
      "copying setup.py -> tweet_sentiment_classifier-2\n",
      "copying tweet_sentiment_classifier.egg-info/PKG-INFO -> tweet_sentiment_classifier-2/tweet_sentiment_classifier.egg-info\n",
      "copying tweet_sentiment_classifier.egg-info/SOURCES.txt -> tweet_sentiment_classifier-2/tweet_sentiment_classifier.egg-info\n",
      "copying tweet_sentiment_classifier.egg-info/dependency_links.txt -> tweet_sentiment_classifier-2/tweet_sentiment_classifier.egg-info\n",
      "copying tweet_sentiment_classifier.egg-info/top_level.txt -> tweet_sentiment_classifier-2/tweet_sentiment_classifier.egg-info\n",
      "Writing tweet_sentiment_classifier-2/setup.cfg\n",
      "Creating tar archive\n",
      "removing 'tweet_sentiment_classifier-2' (and everything under it)\n"
     ]
    }
   ],
   "source": [
    "!python setup.py sdist --formats=gztar\n",
    "!gsutil cp ./dist/{MODEL_NAME}-{MODEL_TIME_VERSION}.tar.gz {BUCKET}/{PACKAGES_DIR}/{MODEL_NAME}-{MODEL_TIME_VERSION}.tar.gz"
   ]
  },
  {
   "cell_type": "markdown",
   "metadata": {},
   "source": [
    "## 5. Update model version on AI Platform"
   ]
  },
  {
   "cell_type": "code",
   "execution_count": null,
   "metadata": {},
   "outputs": [],
   "source": [
    "VERSION_NAME='V_'+MODEL_TIME_VERSION.replace(\"-\",\"_\")"
   ]
  },
  {
   "cell_type": "code",
   "execution_count": 95,
   "metadata": {},
   "outputs": [
    {
     "name": "stdout",
     "output_type": "stream",
     "text": [
      "Using endpoint [https://ml.googleapis.com/]\n",
      "NAME                        DEFAULT_VERSION_NAME\n",
      "tweet_sentiment_classifier  V1\n"
     ]
    }
   ],
   "source": [
    "!gcloud ai-platform models list --region global"
   ]
  },
  {
   "cell_type": "code",
   "execution_count": 100,
   "metadata": {},
   "outputs": [
    {
     "name": "stdout",
     "output_type": "stream",
     "text": [
      "Using endpoint [https://ml.googleapis.com/]\n",
      "Creating version (this might take a few minutes)......done.                    \n"
     ]
    }
   ],
   "source": [
    "!gcloud beta ai-platform versions create {VERSION_NAME} \\\n",
    "--model {MODEL_NAME} \\\n",
    "--origin {BUCKET}/{MODEL_DIR} \\\n",
    "--python-version 3.7 \\\n",
    "--runtime-version {RUNTIME_VERSION} \\\n",
    "--package-uris {BUCKET}/{PACKAGES_DIR}/{MODEL_NAME}-{MODEL_TIME_VERSION}.tar.gz \\\n",
    "--prediction-class=model_prediction.CustomModelPrediction \\\n",
    "--region global "
   ]
  },
  {
   "cell_type": "markdown",
   "metadata": {},
   "source": [
    "#### Set the new deployed version as default"
   ]
  },
  {
   "cell_type": "code",
   "execution_count": 122,
   "metadata": {},
   "outputs": [
    {
     "name": "stdout",
     "output_type": "stream",
     "text": [
      "Using endpoint [https://ml.googleapis.com/]\n",
      "createTime: '2022-06-03T20:54:11Z'\n",
      "deploymentUri: gs://sound-splicer-351114-training-data/valid_model_2022-06-03-15-42-52\n",
      "etag: opKbMl6YWSI=\n",
      "isDefault: true\n",
      "machineType: mls1-c1-m2\n",
      "name: projects/sound-splicer-351114/models/tweet_sentiment_classifier/versions/V2\n",
      "packageUris:\n",
      "- gs://sound-splicer-351114-training-data/valid_package_2022-06-03-15-42-52/tweet_sentiment_classifier.tar.gz\n",
      "predictionClass: model_prediction.CustomModelPrediction\n",
      "pythonVersion: '3.7'\n",
      "runtimeVersion: '2.5'\n",
      "state: READY\n"
     ]
    }
   ],
   "source": [
    "!gcloud ai-platform versions set-default {VERSION_NAME} \\\n",
    "--model {MODEL_NAME}\\\n",
    "--region global"
   ]
  },
  {
   "cell_type": "markdown",
   "metadata": {},
   "source": [
    "## 6. Testing"
   ]
  },
  {
   "cell_type": "code",
   "execution_count": 118,
   "metadata": {
    "tags": []
   },
   "outputs": [],
   "source": [
    "requests = [\n",
    "    \"god this episode sucks\",\n",
    "    \"meh, I kinda like it\",\n",
    "    \"what were the writer thinking, omg it doesn't make any sense!\",\n",
    "    \"omg! what a twist, who would'v though :o!\",\n",
    "    \"woohoow, sansa for the win!\"\n",
    "]\n",
    "\n",
    "# JSON format the requests\n",
    "request_data = {'instances': requests}\n",
    "\n",
    "# Authenticate and call CMLE prediction API \n",
    "credentials = GoogleCredentials.get_application_default()"
   ]
  },
  {
   "cell_type": "code",
   "execution_count": 116,
   "metadata": {
    "collapsed": false,
    "jupyter": {
     "outputs_hidden": false
    }
   },
   "outputs": [
    {
     "name": "stdout",
     "output_type": "stream",
     "text": [
      "CPU times: user 11.8 ms, sys: 8.07 ms, total: 19.9 ms\n",
      "Wall time: 78.2 ms\n"
     ]
    },
    {
     "data": {
      "text/plain": [
       "[{'label': 'negative', 'score': 0.050200000405311584},\n",
       " {'label': 'positive', 'score': 0.7918000221252441},\n",
       " {'label': 'negative', 'score': 0.373199999332428},\n",
       " {'label': 'negative', 'score': 0.19840000569820404},\n",
       " {'label': 'positive', 'score': 0.8440999984741211}]"
      ]
     },
     "execution_count": 116,
     "metadata": {},
     "output_type": "execute_result"
    }
   ],
   "source": [
    "%%time\n",
    "api = discovery.build('ml', 'v1')\n",
    "model_url = 'projects/{}/models/{}'.format(PROJECT, MODEL_NAME)\n",
    "response = api.projects().predict(body=request_data, name=model_url).execute()\n",
    "response[\"predictions\"]"
   ]
  }
 ],
 "metadata": {
  "environment": {
   "kernel": "python3",
   "name": "tf2-gpu.2-3.m93",
   "type": "gcloud",
   "uri": "gcr.io/deeplearning-platform-release/tf2-gpu.2-3:m93"
  },
  "kernelspec": {
   "display_name": "Python 3",
   "language": "python",
   "name": "python3"
  },
  "language_info": {
   "codemirror_mode": {
    "name": "ipython",
    "version": 3
   },
   "file_extension": ".py",
   "mimetype": "text/x-python",
   "name": "python",
   "nbconvert_exporter": "python",
   "pygments_lexer": "ipython3",
   "version": "3.7.12"
  }
 },
 "nbformat": 4,
 "nbformat_minor": 4
}
